{
 "cells": [
  {
   "cell_type": "code",
   "execution_count": 7,
   "id": "34566656",
   "metadata": {},
   "outputs": [],
   "source": [
    "import Narcissistic\n"
   ]
  },
  {
   "cell_type": "code",
   "execution_count": 9,
   "id": "5355d68c",
   "metadata": {},
   "outputs": [
    {
     "data": {
      "text/plain": [
       "[153, 370, 371, 407]"
      ]
     },
     "execution_count": 9,
     "metadata": {},
     "output_type": "execute_result"
    }
   ],
   "source": [
    "def find_narcissistic_number(start:int,end:int)->list:\n",
    "    result=[]\n",
    "    for number in range(start,end+1,1):\n",
    "        if Narcissistic.narcissistic(number):\n",
    "            result.append(number)\n",
    "    return result\n",
    "find_narcissistic_number(100,1000)"
   ]
  },
  {
   "cell_type": "code",
   "execution_count": null,
   "id": "f02803ea",
   "metadata": {},
   "outputs": [],
   "source": []
  }
 ],
 "metadata": {
  "kernelspec": {
   "display_name": "Python 3 (ipykernel)",
   "language": "python",
   "name": "python3"
  },
  "language_info": {
   "codemirror_mode": {
    "name": "ipython",
    "version": 3
   },
   "file_extension": ".py",
   "mimetype": "text/x-python",
   "name": "python",
   "nbconvert_exporter": "python",
   "pygments_lexer": "ipython3",
   "version": "3.9.12"
  }
 },
 "nbformat": 4,
 "nbformat_minor": 5
}
